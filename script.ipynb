{
 "cells": [
  {
   "cell_type": "code",
   "execution_count": 93,
   "metadata": {},
   "outputs": [],
   "source": [
    "import pandas as pd\n",
    "import json\n",
    "import numpy\n",
    "import requests\n",
    "import json\n",
    "import csv\n",
    "import matplotlib.pyplot as plt\n",
    "import numpy as np"
   ]
  },
  {
   "cell_type": "markdown",
   "metadata": {},
   "source": [
    "API Open data Paris - Traffic"
   ]
  },
  {
   "cell_type": "code",
   "execution_count": 83,
   "metadata": {},
   "outputs": [],
   "source": [
    "## Nom du jeux de données \n",
    "dataset = \"comptages-routiers-permanents\"\n",
    "\n",
    "# Période souhaité\n",
    "jour1 = \"2021-12-01\"\n",
    "jour2 = \"2021-12-31\"\n",
    "\n",
    "# Libelle du capteur (laissé cette variable vide si vous souhaitez tous les capteurs il y'en a près de 3000.. cf le shape capteur.geojson fourni avec ce script)\n",
    "# PI = Périphérique Intérieur / PE = Périphérique extérieur\n",
    "\n",
    "libelle = \"PE_Batignolles\"\n",
    "\n",
    "# Si un libelle de capteur est ajouté on rajoute une condition à la requête de l'API sinon on laisse vide\n",
    "if len(libelle) >= 1 : \n",
    "    capteur = \"&refine.libelle=\"+libelle\n",
    "else :\n",
    "    capteur = \"\"\n",
    "\n",
    "# Nombre de ligne max (-1 pour tous)\n",
    "nb_rows_max = '-1'\n",
    "\n",
    "api_req = r\"https://opendata.paris.fr/api/records/1.0/search/?dataset=\"+dataset+\"&q=t_1h%3A%5B\"+jour1+\"T23%3A00%3A00Z+TO+\"+jour2+\"T22%3A59%3A59Z%5D&rows=\"+nb_rows_max+\"&sort=t_1h&facet=libelle&facet=t_1h&facet=etat_trafic&facet=libelle_nd_amont&facet=libelle_nd_aval\"+capteur"
   ]
  },
  {
   "cell_type": "markdown",
   "metadata": {},
   "source": [
    "Téléchargement des données depuis l'API"
   ]
  },
  {
   "cell_type": "code",
   "execution_count": 84,
   "metadata": {},
   "outputs": [
    {
     "data": {
      "text/plain": [
       "578200"
      ]
     },
     "execution_count": 84,
     "metadata": {},
     "output_type": "execute_result"
    }
   ],
   "source": [
    "r = requests.get(api_req, allow_redirects=True)\n",
    "open('traffic.json', 'wb').write(r.content)\n"
   ]
  },
  {
   "cell_type": "markdown",
   "metadata": {},
   "source": [
    "Conversion du JSON en fichier CSV"
   ]
  },
  {
   "cell_type": "code",
   "execution_count": 85,
   "metadata": {},
   "outputs": [],
   "source": [
    "## Le json est particulier et contient un dictionnaire il faut le normaliser\n",
    "\n",
    "with open('traffic.json') as json_data:\n",
    "    data = json.load(json_data)\n",
    "\n",
    "df = pd.json_normalize(data[\"records\"])\n",
    "\n",
    "df.to_csv ('traffic.csv', index = None)"
   ]
  },
  {
   "cell_type": "markdown",
   "metadata": {},
   "source": [
    "Explorer les données"
   ]
  },
  {
   "cell_type": "code",
   "execution_count": 86,
   "metadata": {},
   "outputs": [
    {
     "data": {
      "text/html": [
       "<div>\n",
       "<style scoped>\n",
       "    .dataframe tbody tr th:only-of-type {\n",
       "        vertical-align: middle;\n",
       "    }\n",
       "\n",
       "    .dataframe tbody tr th {\n",
       "        vertical-align: top;\n",
       "    }\n",
       "\n",
       "    .dataframe thead th {\n",
       "        text-align: right;\n",
       "    }\n",
       "</style>\n",
       "<table border=\"1\" class=\"dataframe\">\n",
       "  <thead>\n",
       "    <tr style=\"text-align: right;\">\n",
       "      <th></th>\n",
       "      <th>datasetid</th>\n",
       "      <th>recordid</th>\n",
       "      <th>record_timestamp</th>\n",
       "      <th>fields.k</th>\n",
       "      <th>fields.q</th>\n",
       "      <th>fields.libelle</th>\n",
       "      <th>fields.iu_ac</th>\n",
       "      <th>fields.geo_point_2d</th>\n",
       "      <th>fields.geo_shape.coordinates</th>\n",
       "      <th>fields.geo_shape.type</th>\n",
       "      <th>...</th>\n",
       "      <th>fields.date_fin</th>\n",
       "      <th>fields.date_debut</th>\n",
       "      <th>fields.iu_nd_amont</th>\n",
       "      <th>fields.etat_trafic</th>\n",
       "      <th>fields.iu_nd_aval</th>\n",
       "      <th>fields.libelle_nd_amont</th>\n",
       "      <th>fields.etat_barre</th>\n",
       "      <th>fields.libelle_nd_aval</th>\n",
       "      <th>geometry.type</th>\n",
       "      <th>geometry.coordinates</th>\n",
       "    </tr>\n",
       "  </thead>\n",
       "  <tbody>\n",
       "    <tr>\n",
       "      <th>0</th>\n",
       "      <td>comptages-routiers-permanents</td>\n",
       "      <td>07d76c5cbe4ce4542c42d86f9ce766f0b302337b</td>\n",
       "      <td>2021-12-31T22:25:00+00:00</td>\n",
       "      <td>11.80</td>\n",
       "      <td>4911.0</td>\n",
       "      <td>PE_Batignolles</td>\n",
       "      <td>5406</td>\n",
       "      <td>[48.89875662632699, 2.3160291712781103]</td>\n",
       "      <td>[[2.3193519228, 48.899777396], [2.3162875738, ...</td>\n",
       "      <td>LineString</td>\n",
       "      <td>...</td>\n",
       "      <td>2019-06-01</td>\n",
       "      <td>2005-01-01</td>\n",
       "      <td>2849</td>\n",
       "      <td>Fluide</td>\n",
       "      <td>2087</td>\n",
       "      <td>PE_St_Ouen</td>\n",
       "      <td>Ouvert</td>\n",
       "      <td>SE_Clichy</td>\n",
       "      <td>Point</td>\n",
       "      <td>[2.3160291712781103, 48.89875662632699]</td>\n",
       "    </tr>\n",
       "    <tr>\n",
       "      <th>1</th>\n",
       "      <td>comptages-routiers-permanents</td>\n",
       "      <td>9d7fe716c5f096be7b93cef0f1cb393b9a34ef2d</td>\n",
       "      <td>2021-12-31T22:25:00+00:00</td>\n",
       "      <td>11.95</td>\n",
       "      <td>4947.0</td>\n",
       "      <td>PE_Batignolles</td>\n",
       "      <td>5406</td>\n",
       "      <td>[48.89875662632699, 2.3160291712781103]</td>\n",
       "      <td>[[2.3193519228, 48.899777396], [2.3162875738, ...</td>\n",
       "      <td>LineString</td>\n",
       "      <td>...</td>\n",
       "      <td>2019-06-01</td>\n",
       "      <td>2005-01-01</td>\n",
       "      <td>2849</td>\n",
       "      <td>Fluide</td>\n",
       "      <td>2087</td>\n",
       "      <td>PE_St_Ouen</td>\n",
       "      <td>Ouvert</td>\n",
       "      <td>SE_Clichy</td>\n",
       "      <td>Point</td>\n",
       "      <td>[2.3160291712781103, 48.89875662632699]</td>\n",
       "    </tr>\n",
       "  </tbody>\n",
       "</table>\n",
       "<p>2 rows × 21 columns</p>\n",
       "</div>"
      ],
      "text/plain": [
       "                       datasetid                                  recordid  \\\n",
       "0  comptages-routiers-permanents  07d76c5cbe4ce4542c42d86f9ce766f0b302337b   \n",
       "1  comptages-routiers-permanents  9d7fe716c5f096be7b93cef0f1cb393b9a34ef2d   \n",
       "\n",
       "            record_timestamp  fields.k  fields.q  fields.libelle  \\\n",
       "0  2021-12-31T22:25:00+00:00     11.80    4911.0  PE_Batignolles   \n",
       "1  2021-12-31T22:25:00+00:00     11.95    4947.0  PE_Batignolles   \n",
       "\n",
       "   fields.iu_ac                      fields.geo_point_2d  \\\n",
       "0          5406  [48.89875662632699, 2.3160291712781103]   \n",
       "1          5406  [48.89875662632699, 2.3160291712781103]   \n",
       "\n",
       "                        fields.geo_shape.coordinates fields.geo_shape.type  \\\n",
       "0  [[2.3193519228, 48.899777396], [2.3162875738, ...            LineString   \n",
       "1  [[2.3193519228, 48.899777396], [2.3162875738, ...            LineString   \n",
       "\n",
       "   ... fields.date_fin fields.date_debut fields.iu_nd_amont  \\\n",
       "0  ...      2019-06-01        2005-01-01               2849   \n",
       "1  ...      2019-06-01        2005-01-01               2849   \n",
       "\n",
       "   fields.etat_trafic fields.iu_nd_aval  fields.libelle_nd_amont  \\\n",
       "0              Fluide              2087               PE_St_Ouen   \n",
       "1              Fluide              2087               PE_St_Ouen   \n",
       "\n",
       "  fields.etat_barre fields.libelle_nd_aval geometry.type  \\\n",
       "0            Ouvert              SE_Clichy         Point   \n",
       "1            Ouvert              SE_Clichy         Point   \n",
       "\n",
       "                      geometry.coordinates  \n",
       "0  [2.3160291712781103, 48.89875662632699]  \n",
       "1  [2.3160291712781103, 48.89875662632699]  \n",
       "\n",
       "[2 rows x 21 columns]"
      ]
     },
     "execution_count": 86,
     "metadata": {},
     "output_type": "execute_result"
    }
   ],
   "source": [
    "#Importer CSV to dataframe\n",
    "\n",
    "traffic = pd.read_csv(\"traffic.csv\", sep=',')\n",
    "traffic.head(2)"
   ]
  },
  {
   "cell_type": "markdown",
   "metadata": {},
   "source": [
    "Nettoyage des colonnes en trop dans le csv "
   ]
  },
  {
   "cell_type": "code",
   "execution_count": 87,
   "metadata": {},
   "outputs": [],
   "source": [
    "data = pd.read_csv('traffic.csv')\n",
    "\n",
    "data.drop('datasetid', inplace=True, axis=1)\n",
    "data.drop('recordid', inplace=True, axis=1)\n",
    "data.drop('record_timestamp', inplace=True, axis=1)\n",
    "\n",
    "data.to_csv('traffic.csv')"
   ]
  },
  {
   "cell_type": "code",
   "execution_count": 88,
   "metadata": {},
   "outputs": [
    {
     "data": {
      "text/html": [
       "<div>\n",
       "<style scoped>\n",
       "    .dataframe tbody tr th:only-of-type {\n",
       "        vertical-align: middle;\n",
       "    }\n",
       "\n",
       "    .dataframe tbody tr th {\n",
       "        vertical-align: top;\n",
       "    }\n",
       "\n",
       "    .dataframe thead th {\n",
       "        text-align: right;\n",
       "    }\n",
       "</style>\n",
       "<table border=\"1\" class=\"dataframe\">\n",
       "  <thead>\n",
       "    <tr style=\"text-align: right;\">\n",
       "      <th></th>\n",
       "      <th>Unnamed: 0</th>\n",
       "      <th>fields.k</th>\n",
       "      <th>fields.q</th>\n",
       "      <th>fields.libelle</th>\n",
       "      <th>fields.iu_ac</th>\n",
       "      <th>fields.geo_point_2d</th>\n",
       "      <th>fields.geo_shape.coordinates</th>\n",
       "      <th>fields.geo_shape.type</th>\n",
       "      <th>fields.t_1h</th>\n",
       "      <th>fields.date_fin</th>\n",
       "      <th>fields.date_debut</th>\n",
       "      <th>fields.iu_nd_amont</th>\n",
       "      <th>fields.etat_trafic</th>\n",
       "      <th>fields.iu_nd_aval</th>\n",
       "      <th>fields.libelle_nd_amont</th>\n",
       "      <th>fields.etat_barre</th>\n",
       "      <th>fields.libelle_nd_aval</th>\n",
       "      <th>geometry.type</th>\n",
       "      <th>geometry.coordinates</th>\n",
       "    </tr>\n",
       "  </thead>\n",
       "  <tbody>\n",
       "    <tr>\n",
       "      <th>0</th>\n",
       "      <td>0</td>\n",
       "      <td>11.80</td>\n",
       "      <td>4911.0</td>\n",
       "      <td>PE_Batignolles</td>\n",
       "      <td>5406</td>\n",
       "      <td>[48.89875662632699, 2.3160291712781103]</td>\n",
       "      <td>[[2.3193519228, 48.899777396], [2.3162875738, ...</td>\n",
       "      <td>LineString</td>\n",
       "      <td>2021-12-31T22:00:00+00:00</td>\n",
       "      <td>2019-06-01</td>\n",
       "      <td>2005-01-01</td>\n",
       "      <td>2849</td>\n",
       "      <td>Fluide</td>\n",
       "      <td>2087</td>\n",
       "      <td>PE_St_Ouen</td>\n",
       "      <td>Ouvert</td>\n",
       "      <td>SE_Clichy</td>\n",
       "      <td>Point</td>\n",
       "      <td>[2.3160291712781103, 48.89875662632699]</td>\n",
       "    </tr>\n",
       "    <tr>\n",
       "      <th>1</th>\n",
       "      <td>1</td>\n",
       "      <td>11.95</td>\n",
       "      <td>4947.0</td>\n",
       "      <td>PE_Batignolles</td>\n",
       "      <td>5406</td>\n",
       "      <td>[48.89875662632699, 2.3160291712781103]</td>\n",
       "      <td>[[2.3193519228, 48.899777396], [2.3162875738, ...</td>\n",
       "      <td>LineString</td>\n",
       "      <td>2021-12-31T21:00:00+00:00</td>\n",
       "      <td>2019-06-01</td>\n",
       "      <td>2005-01-01</td>\n",
       "      <td>2849</td>\n",
       "      <td>Fluide</td>\n",
       "      <td>2087</td>\n",
       "      <td>PE_St_Ouen</td>\n",
       "      <td>Ouvert</td>\n",
       "      <td>SE_Clichy</td>\n",
       "      <td>Point</td>\n",
       "      <td>[2.3160291712781103, 48.89875662632699]</td>\n",
       "    </tr>\n",
       "  </tbody>\n",
       "</table>\n",
       "</div>"
      ],
      "text/plain": [
       "   Unnamed: 0  fields.k  fields.q  fields.libelle  fields.iu_ac  \\\n",
       "0           0     11.80    4911.0  PE_Batignolles          5406   \n",
       "1           1     11.95    4947.0  PE_Batignolles          5406   \n",
       "\n",
       "                       fields.geo_point_2d  \\\n",
       "0  [48.89875662632699, 2.3160291712781103]   \n",
       "1  [48.89875662632699, 2.3160291712781103]   \n",
       "\n",
       "                        fields.geo_shape.coordinates fields.geo_shape.type  \\\n",
       "0  [[2.3193519228, 48.899777396], [2.3162875738, ...            LineString   \n",
       "1  [[2.3193519228, 48.899777396], [2.3162875738, ...            LineString   \n",
       "\n",
       "                 fields.t_1h fields.date_fin fields.date_debut  \\\n",
       "0  2021-12-31T22:00:00+00:00      2019-06-01        2005-01-01   \n",
       "1  2021-12-31T21:00:00+00:00      2019-06-01        2005-01-01   \n",
       "\n",
       "   fields.iu_nd_amont fields.etat_trafic  fields.iu_nd_aval  \\\n",
       "0                2849             Fluide               2087   \n",
       "1                2849             Fluide               2087   \n",
       "\n",
       "  fields.libelle_nd_amont fields.etat_barre fields.libelle_nd_aval  \\\n",
       "0              PE_St_Ouen            Ouvert              SE_Clichy   \n",
       "1              PE_St_Ouen            Ouvert              SE_Clichy   \n",
       "\n",
       "  geometry.type                     geometry.coordinates  \n",
       "0         Point  [2.3160291712781103, 48.89875662632699]  \n",
       "1         Point  [2.3160291712781103, 48.89875662632699]  "
      ]
     },
     "execution_count": 88,
     "metadata": {},
     "output_type": "execute_result"
    }
   ],
   "source": [
    "traffic = pd.read_csv(\"traffic.csv\", sep=',')\n",
    "traffic.head(2)"
   ]
  },
  {
   "cell_type": "code",
   "execution_count": 89,
   "metadata": {},
   "outputs": [
    {
     "data": {
      "text/plain": [
       "libelle                  object\n",
       "time                     object\n",
       "k                       float64\n",
       "q                       float64\n",
       "etat_traffic             object\n",
       "geometry.coordinates     object\n",
       "dtype: object"
      ]
     },
     "execution_count": 89,
     "metadata": {},
     "output_type": "execute_result"
    }
   ],
   "source": [
    "## Renomme les champs\n",
    "traffic.rename(columns={'fields.k': 'k','fields.q': 'q','fields.libelle': 'libelle', 'fields.t_1h' : 'time', 'fields.etat_trafic': 'etat_traffic'}, inplace=True)\n",
    "\n",
    "## Reorganiser le tableau\n",
    "traffic = traffic[[\"libelle\", \"time\", \"k\", \"q\", \"etat_traffic\", \"geometry.coordinates\"]]\n",
    "\n",
    "## Voir les types\n",
    "traffic.dtypes"
   ]
  },
  {
   "cell_type": "markdown",
   "metadata": {},
   "source": [
    "On ordonne le dataframe par date et heure"
   ]
  },
  {
   "cell_type": "code",
   "execution_count": 90,
   "metadata": {},
   "outputs": [
    {
     "data": {
      "text/html": [
       "<div>\n",
       "<style scoped>\n",
       "    .dataframe tbody tr th:only-of-type {\n",
       "        vertical-align: middle;\n",
       "    }\n",
       "\n",
       "    .dataframe tbody tr th {\n",
       "        vertical-align: top;\n",
       "    }\n",
       "\n",
       "    .dataframe thead th {\n",
       "        text-align: right;\n",
       "    }\n",
       "</style>\n",
       "<table border=\"1\" class=\"dataframe\">\n",
       "  <thead>\n",
       "    <tr style=\"text-align: right;\">\n",
       "      <th></th>\n",
       "      <th>libelle</th>\n",
       "      <th>time</th>\n",
       "      <th>k</th>\n",
       "      <th>q</th>\n",
       "      <th>etat_traffic</th>\n",
       "      <th>geometry.coordinates</th>\n",
       "    </tr>\n",
       "  </thead>\n",
       "  <tbody>\n",
       "    <tr>\n",
       "      <th>0</th>\n",
       "      <td>PE_Batignolles</td>\n",
       "      <td>2021-12-31T22:00:00+00:00</td>\n",
       "      <td>11.80</td>\n",
       "      <td>4911.0</td>\n",
       "      <td>Fluide</td>\n",
       "      <td>[2.3160291712781103, 48.89875662632699]</td>\n",
       "    </tr>\n",
       "    <tr>\n",
       "      <th>1</th>\n",
       "      <td>PE_Batignolles</td>\n",
       "      <td>2021-12-31T21:00:00+00:00</td>\n",
       "      <td>11.95</td>\n",
       "      <td>4947.0</td>\n",
       "      <td>Fluide</td>\n",
       "      <td>[2.3160291712781103, 48.89875662632699]</td>\n",
       "    </tr>\n",
       "    <tr>\n",
       "      <th>2</th>\n",
       "      <td>PE_Batignolles</td>\n",
       "      <td>2021-12-31T20:00:00+00:00</td>\n",
       "      <td>14.60</td>\n",
       "      <td>5907.0</td>\n",
       "      <td>Fluide</td>\n",
       "      <td>[2.3160291712781103, 48.89875662632699]</td>\n",
       "    </tr>\n",
       "    <tr>\n",
       "      <th>3</th>\n",
       "      <td>PE_Batignolles</td>\n",
       "      <td>2021-12-31T19:00:00+00:00</td>\n",
       "      <td>16.75</td>\n",
       "      <td>6491.0</td>\n",
       "      <td>Pré-saturé</td>\n",
       "      <td>[2.3160291712781103, 48.89875662632699]</td>\n",
       "    </tr>\n",
       "    <tr>\n",
       "      <th>4</th>\n",
       "      <td>PE_Batignolles</td>\n",
       "      <td>2021-12-31T18:00:00+00:00</td>\n",
       "      <td>15.50</td>\n",
       "      <td>6147.0</td>\n",
       "      <td>Pré-saturé</td>\n",
       "      <td>[2.3160291712781103, 48.89875662632699]</td>\n",
       "    </tr>\n",
       "    <tr>\n",
       "      <th>5</th>\n",
       "      <td>PE_Batignolles</td>\n",
       "      <td>2021-12-31T17:00:00+00:00</td>\n",
       "      <td>16.25</td>\n",
       "      <td>6279.0</td>\n",
       "      <td>Pré-saturé</td>\n",
       "      <td>[2.3160291712781103, 48.89875662632699]</td>\n",
       "    </tr>\n",
       "    <tr>\n",
       "      <th>6</th>\n",
       "      <td>PE_Batignolles</td>\n",
       "      <td>2021-12-31T16:00:00+00:00</td>\n",
       "      <td>16.30</td>\n",
       "      <td>6500.0</td>\n",
       "      <td>Pré-saturé</td>\n",
       "      <td>[2.3160291712781103, 48.89875662632699]</td>\n",
       "    </tr>\n",
       "    <tr>\n",
       "      <th>7</th>\n",
       "      <td>PE_Batignolles</td>\n",
       "      <td>2021-12-31T15:00:00+00:00</td>\n",
       "      <td>16.55</td>\n",
       "      <td>6591.0</td>\n",
       "      <td>Pré-saturé</td>\n",
       "      <td>[2.3160291712781103, 48.89875662632699]</td>\n",
       "    </tr>\n",
       "    <tr>\n",
       "      <th>8</th>\n",
       "      <td>PE_Batignolles</td>\n",
       "      <td>2021-12-31T14:00:00+00:00</td>\n",
       "      <td>15.10</td>\n",
       "      <td>6229.0</td>\n",
       "      <td>Pré-saturé</td>\n",
       "      <td>[2.3160291712781103, 48.89875662632699]</td>\n",
       "    </tr>\n",
       "    <tr>\n",
       "      <th>9</th>\n",
       "      <td>PE_Batignolles</td>\n",
       "      <td>2021-12-31T13:00:00+00:00</td>\n",
       "      <td>15.20</td>\n",
       "      <td>6229.0</td>\n",
       "      <td>Pré-saturé</td>\n",
       "      <td>[2.3160291712781103, 48.89875662632699]</td>\n",
       "    </tr>\n",
       "  </tbody>\n",
       "</table>\n",
       "</div>"
      ],
      "text/plain": [
       "          libelle                       time      k       q etat_traffic  \\\n",
       "0  PE_Batignolles  2021-12-31T22:00:00+00:00  11.80  4911.0       Fluide   \n",
       "1  PE_Batignolles  2021-12-31T21:00:00+00:00  11.95  4947.0       Fluide   \n",
       "2  PE_Batignolles  2021-12-31T20:00:00+00:00  14.60  5907.0       Fluide   \n",
       "3  PE_Batignolles  2021-12-31T19:00:00+00:00  16.75  6491.0   Pré-saturé   \n",
       "4  PE_Batignolles  2021-12-31T18:00:00+00:00  15.50  6147.0   Pré-saturé   \n",
       "5  PE_Batignolles  2021-12-31T17:00:00+00:00  16.25  6279.0   Pré-saturé   \n",
       "6  PE_Batignolles  2021-12-31T16:00:00+00:00  16.30  6500.0   Pré-saturé   \n",
       "7  PE_Batignolles  2021-12-31T15:00:00+00:00  16.55  6591.0   Pré-saturé   \n",
       "8  PE_Batignolles  2021-12-31T14:00:00+00:00  15.10  6229.0   Pré-saturé   \n",
       "9  PE_Batignolles  2021-12-31T13:00:00+00:00  15.20  6229.0   Pré-saturé   \n",
       "\n",
       "                      geometry.coordinates  \n",
       "0  [2.3160291712781103, 48.89875662632699]  \n",
       "1  [2.3160291712781103, 48.89875662632699]  \n",
       "2  [2.3160291712781103, 48.89875662632699]  \n",
       "3  [2.3160291712781103, 48.89875662632699]  \n",
       "4  [2.3160291712781103, 48.89875662632699]  \n",
       "5  [2.3160291712781103, 48.89875662632699]  \n",
       "6  [2.3160291712781103, 48.89875662632699]  \n",
       "7  [2.3160291712781103, 48.89875662632699]  \n",
       "8  [2.3160291712781103, 48.89875662632699]  \n",
       "9  [2.3160291712781103, 48.89875662632699]  "
      ]
     },
     "execution_count": 90,
     "metadata": {},
     "output_type": "execute_result"
    }
   ],
   "source": [
    "traffic.sort_values(by=['time'], ascending=True)\n",
    "traffic.head(10)"
   ]
  },
  {
   "cell_type": "markdown",
   "metadata": {},
   "source": [
    "Courbe de l'évolution du traffic"
   ]
  },
  {
   "cell_type": "code",
   "execution_count": 96,
   "metadata": {},
   "outputs": [
    {
     "data": {
      "image/png": "[encoded data removed]",
      "text/plain": [
       "<Figure size 432x288 with 1 Axes>"
      ]
     },
     "metadata": {
      "needs_background": "light"
     },
     "output_type": "display_data"
    },
    {
     "data": {
      "text/plain": [
       "<Figure size 432x288 with 0 Axes>"
      ]
     },
     "metadata": {},
     "output_type": "display_data"
    }
   ],
   "source": [
    "plt.plot(traffic[\"time\"], traffic[\"k\"]) \n",
    "plt.show() "
   ]
  }
 ],
 "metadata": {
  "interpreter": {
   "hash": "fdafbd4770e2123b5f2117ce8b7ff7acaf559247e271e71cc8c0f6183081229f"
  },
  "kernelspec": {
   "display_name": "Python 3.10.1 64-bit ('geo_env': conda)",
   "language": "python",
   "name": "python3"
  },
  "language_info": {
   "codemirror_mode": {
    "name": "ipython",
    "version": 3
   },
   "file_extension": ".py",
   "mimetype": "text/x-python",
   "name": "python",
   "nbconvert_exporter": "python",
   "pygments_lexer": "ipython3",
   "version": "3.10.1"
  },
  "orig_nbformat": 4
 },
 "nbformat": 4,
 "nbformat_minor": 2
}
